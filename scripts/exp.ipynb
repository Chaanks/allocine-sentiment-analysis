{
 "cells": [
  {
   "cell_type": "code",
   "execution_count": 1,
   "metadata": {},
   "outputs": [],
   "source": [
    "import utils\n",
    "import pathlib\n",
    "\n",
    "dataset_name = 'test'\n",
    "\n",
    "data_folder = pathlib.Path('../data')\n",
    "json_folder = data_folder / 'json'\n",
    "\n",
    "xml_file   = data_folder / f'xml/{dataset_name}.xml'\n",
    "json_file  = json_folder / f'{dataset_name}.json'\n",
    "extra_file = json_folder / f'movie_additional.json'\n",
    "es_folder  = data_folder / 'es_sw'\n",
    "\n",
    "# utils.xml_to_ndjson(xml_file, json_folder, es_folder, extra_file)\n",
    "utils.xml_to_json(xml_file, json_file)"
   ]
  },
  {
   "cell_type": "markdown",
   "metadata": {},
   "source": [
    "## Data Analysis"
   ]
  },
  {
   "cell_type": "code",
   "execution_count": 47,
   "metadata": {},
   "outputs": [],
   "source": [
    "import pandas as pd\n",
    "from pathlib import Path\n",
    "import numpy as np\n",
    "import matplotlib.pyplot as plt\n",
    "import seaborn as sns\n",
    "import json"
   ]
  },
  {
   "cell_type": "code",
   "execution_count": 35,
   "metadata": {},
   "outputs": [],
   "source": [
    "train = Path('../data/json/train.json')\n",
    "test = Path('../data/json/test.json')\n",
    "dev = Path('../data/json/dev.json')\n",
    "\n",
    "train_data = pd.read_json(train)\n",
    "test_data = pd.read_json(test)\n",
    "dev_data = pd.read_json(dev)\n",
    "# reviews = data['commentaire']\n",
    "# reviews_len = np.array([len(r) for r in reviews])"
   ]
  },
  {
   "cell_type": "code",
   "execution_count": 36,
   "metadata": {},
   "outputs": [],
   "source": [
    "train_movies = train_data['movie']\n",
    "train_movies = np.unique([movie['id'] for movie in train_movies])\n",
    "\n",
    "test_movies = test_data['movie']\n",
    "test_movies = np.unique([movie['id'] for movie in test_movies])\n",
    "\n",
    "dev_movies = dev_data['movie']\n",
    "dev_movies = np.unique([movie['id'] for movie in dev_movies])"
   ]
  },
  {
   "cell_type": "code",
   "execution_count": 37,
   "metadata": {},
   "outputs": [
    {
     "name": "stdout",
     "output_type": "stream",
     "text": [
      "3202\n",
      "450\n",
      "448\n"
     ]
    }
   ],
   "source": [
    "print(len(train_movies))\n",
    "print(len(test_movies))\n",
    "print(len(dev_movies))"
   ]
  },
  {
   "cell_type": "code",
   "execution_count": 39,
   "metadata": {},
   "outputs": [
    {
     "data": {
      "text/plain": [
       "array([], dtype='<U6')"
      ]
     },
     "execution_count": 39,
     "metadata": {},
     "output_type": "execute_result"
    }
   ],
   "source": [
    "np.intersect1d(np.concatenate([train_movies, dev_movies]), test_movies)\n",
    "#np.isin(test_movies, train_movies)"
   ]
  },
  {
   "cell_type": "code",
   "execution_count": 43,
   "metadata": {},
   "outputs": [],
   "source": [
    "movies = np.concatenate([train_movies, dev_movies, test_movies])\n",
    "movies_u = np.unique(movies)"
   ]
  },
  {
   "cell_type": "code",
   "execution_count": 48,
   "metadata": {},
   "outputs": [],
   "source": [
    "json_str = json.dumps(movies.tolist())"
   ]
  },
  {
   "cell_type": "code",
   "execution_count": 50,
   "metadata": {},
   "outputs": [],
   "source": [
    "with open(\"../data/json/movies.json\", \"w\") as f: \n",
    "    f.write(json_str) "
   ]
  },
  {
   "cell_type": "code",
   "execution_count": 40,
   "metadata": {},
   "outputs": [],
   "source": [
    "train_users = np.unique(train_data['user_id'])\n",
    "test_users = np.unique(test_data['user_id'])\n",
    "dev_users = np.unique(dev_data['user_id'])"
   ]
  },
  {
   "cell_type": "code",
   "execution_count": 41,
   "metadata": {},
   "outputs": [
    {
     "name": "stdout",
     "output_type": "stream",
     "text": [
      "119666\n",
      "29255\n",
      "35344\n"
     ]
    }
   ],
   "source": [
    "print(len(train_users))\n",
    "print(len(test_users))\n",
    "print(len(dev_users))"
   ]
  },
  {
   "cell_type": "code",
   "execution_count": 42,
   "metadata": {},
   "outputs": [
    {
     "data": {
      "text/plain": [
       "21117"
      ]
     },
     "execution_count": 42,
     "metadata": {},
     "output_type": "execute_result"
    }
   ],
   "source": [
    "len(np.intersect1d(np.concatenate([train_users, dev_users]), test_users))"
   ]
  },
  {
   "cell_type": "code",
   "execution_count": 51,
   "metadata": {},
   "outputs": [],
   "source": [
    "users = np.concatenate([train_users, dev_users, test_users])\n",
    "users_u = np.unique(users)"
   ]
  },
  {
   "cell_type": "code",
   "execution_count": 52,
   "metadata": {},
   "outputs": [
    {
     "data": {
      "text/plain": [
       "140046"
      ]
     },
     "execution_count": 52,
     "metadata": {},
     "output_type": "execute_result"
    }
   ],
   "source": [
    "len(users_u)"
   ]
  },
  {
   "cell_type": "code",
   "execution_count": 53,
   "metadata": {},
   "outputs": [],
   "source": [
    "json_str = json.dumps(users_u.tolist())\n",
    "with open(\"../data/json/users.json\", \"w\") as f: \n",
    "    f.write(json_str) "
   ]
  },
  {
   "cell_type": "code",
   "execution_count": 34,
   "metadata": {},
   "outputs": [
    {
     "data": {
      "text/html": [
       "<div>\n",
       "<style scoped>\n",
       "    .dataframe tbody tr th:only-of-type {\n",
       "        vertical-align: middle;\n",
       "    }\n",
       "\n",
       "    .dataframe tbody tr th {\n",
       "        vertical-align: top;\n",
       "    }\n",
       "\n",
       "    .dataframe thead th {\n",
       "        text-align: right;\n",
       "    }\n",
       "</style>\n",
       "<table border=\"1\" class=\"dataframe\">\n",
       "  <thead>\n",
       "    <tr style=\"text-align: right;\">\n",
       "      <th></th>\n",
       "      <th>review_id</th>\n",
       "      <th>name</th>\n",
       "      <th>user_id</th>\n",
       "      <th>commentaire</th>\n",
       "      <th>movie</th>\n",
       "    </tr>\n",
       "  </thead>\n",
       "  <tbody>\n",
       "    <tr>\n",
       "      <th>0</th>\n",
       "      <td>review_59354742</td>\n",
       "      <td>gimliamideselfes</td>\n",
       "      <td>Z20040827093310567684711</td>\n",
       "      <td>12 jours, un film que j'ai raté à sa sortie et...</td>\n",
       "      <td>{'id': '253727'}</td>\n",
       "    </tr>\n",
       "    <tr>\n",
       "      <th>1</th>\n",
       "      <td>review_62570109</td>\n",
       "      <td>Yetcha</td>\n",
       "      <td>Z20030318104639813779116</td>\n",
       "      <td>Ces lueurs dans ces yeux... Soit ils sont tous...</td>\n",
       "      <td>{'id': '253727'}</td>\n",
       "    </tr>\n",
       "    <tr>\n",
       "      <th>2</th>\n",
       "      <td>review_58180650</td>\n",
       "      <td>TTNOUGAT</td>\n",
       "      <td>Z20071021153249553451578</td>\n",
       "      <td>Il s’agit d’un documentaire sans la moindre ac...</td>\n",
       "      <td>{'id': '253727'}</td>\n",
       "    </tr>\n",
       "    <tr>\n",
       "      <th>3</th>\n",
       "      <td>review_57696986</td>\n",
       "      <td>titicaca120</td>\n",
       "      <td>Z20060317115155370578365</td>\n",
       "      <td>un documentaire magnifique dans cette unité ly...</td>\n",
       "      <td>{'id': '253727'}</td>\n",
       "    </tr>\n",
       "    <tr>\n",
       "      <th>4</th>\n",
       "      <td>review_57736972</td>\n",
       "      <td>velocio</td>\n",
       "      <td>Z20040630141522227308769</td>\n",
       "      <td>Un documentaire très intéressant, quand bien m...</td>\n",
       "      <td>{'id': '253727'}</td>\n",
       "    </tr>\n",
       "    <tr>\n",
       "      <th>...</th>\n",
       "      <td>...</td>\n",
       "      <td>...</td>\n",
       "      <td>...</td>\n",
       "      <td>...</td>\n",
       "      <td>...</td>\n",
       "    </tr>\n",
       "    <tr>\n",
       "      <th>85842</th>\n",
       "      <td>review_57275608</td>\n",
       "      <td>Rom A</td>\n",
       "      <td>Z20120217154308300922168</td>\n",
       "      <td>UnThor aux cheveux courts, un Hulk qui parle, ...</td>\n",
       "      <td>{'id': '223252'}</td>\n",
       "    </tr>\n",
       "    <tr>\n",
       "      <th>85843</th>\n",
       "      <td>review_57288594</td>\n",
       "      <td>Zoé T.</td>\n",
       "      <td>Z20171104180909770373557</td>\n",
       "      <td>Le casting correspond bien au film mais ça doi...</td>\n",
       "      <td>{'id': '223252'}</td>\n",
       "    </tr>\n",
       "    <tr>\n",
       "      <th>85844</th>\n",
       "      <td>review_57313027</td>\n",
       "      <td>Elisa G</td>\n",
       "      <td>Z20121226181848567456295</td>\n",
       "      <td>Très bon film. Bon effets spéciaux. Il manquai...</td>\n",
       "      <td>{'id': '223252'}</td>\n",
       "    </tr>\n",
       "    <tr>\n",
       "      <th>85845</th>\n",
       "      <td>review_57321607</td>\n",
       "      <td>Kevin Quesnel</td>\n",
       "      <td>Z20111024122936830511478</td>\n",
       "      <td>le film est superbe ! avec pas mal d'action co...</td>\n",
       "      <td>{'id': '223252'}</td>\n",
       "    </tr>\n",
       "    <tr>\n",
       "      <th>85846</th>\n",
       "      <td>review_57331968</td>\n",
       "      <td>AskingGame</td>\n",
       "      <td>Z20171110011506700667194</td>\n",
       "      <td>Il s'agit là du plus fun et décomplexer de tou...</td>\n",
       "      <td>{'id': '223252'}</td>\n",
       "    </tr>\n",
       "  </tbody>\n",
       "</table>\n",
       "<p>85847 rows × 5 columns</p>\n",
       "</div>"
      ],
      "text/plain": [
       "             review_id              name                   user_id  \\\n",
       "0      review_59354742  gimliamideselfes  Z20040827093310567684711   \n",
       "1      review_62570109            Yetcha  Z20030318104639813779116   \n",
       "2      review_58180650          TTNOUGAT  Z20071021153249553451578   \n",
       "3      review_57696986       titicaca120  Z20060317115155370578365   \n",
       "4      review_57736972           velocio  Z20040630141522227308769   \n",
       "...                ...               ...                       ...   \n",
       "85842  review_57275608             Rom A  Z20120217154308300922168   \n",
       "85843  review_57288594            Zoé T.  Z20171104180909770373557   \n",
       "85844  review_57313027           Elisa G  Z20121226181848567456295   \n",
       "85845  review_57321607     Kevin Quesnel  Z20111024122936830511478   \n",
       "85846  review_57331968        AskingGame  Z20171110011506700667194   \n",
       "\n",
       "                                             commentaire             movie  \n",
       "0      12 jours, un film que j'ai raté à sa sortie et...  {'id': '253727'}  \n",
       "1      Ces lueurs dans ces yeux... Soit ils sont tous...  {'id': '253727'}  \n",
       "2      Il s’agit d’un documentaire sans la moindre ac...  {'id': '253727'}  \n",
       "3      un documentaire magnifique dans cette unité ly...  {'id': '253727'}  \n",
       "4      Un documentaire très intéressant, quand bien m...  {'id': '253727'}  \n",
       "...                                                  ...               ...  \n",
       "85842  UnThor aux cheveux courts, un Hulk qui parle, ...  {'id': '223252'}  \n",
       "85843  Le casting correspond bien au film mais ça doi...  {'id': '223252'}  \n",
       "85844  Très bon film. Bon effets spéciaux. Il manquai...  {'id': '223252'}  \n",
       "85845  le film est superbe ! avec pas mal d'action co...  {'id': '223252'}  \n",
       "85846  Il s'agit là du plus fun et décomplexer de tou...  {'id': '223252'}  \n",
       "\n",
       "[85847 rows x 5 columns]"
      ]
     },
     "execution_count": 34,
     "metadata": {},
     "output_type": "execute_result"
    }
   ],
   "source": [
    "test_data"
   ]
  },
  {
   "cell_type": "code",
   "execution_count": null,
   "metadata": {},
   "outputs": [],
   "source": []
  },
  {
   "cell_type": "code",
   "execution_count": 6,
   "metadata": {},
   "outputs": [
    {
     "name": "stdout",
     "output_type": "stream",
     "text": [
      "min : 1 \n",
      "max: 29667 \n",
      "mean: 615.1250296563468 \n",
      "std: 800.7778263138723 \n",
      "median: 349.0 \n",
      "Q1: 186.0 \n",
      "Q3: 715.0 \n"
     ]
    }
   ],
   "source": [
    "# print all stats\n",
    "print(f\"min : {np.min(reviews_len)} \")\n",
    "print(f\"max: {np.max(reviews_len)} \")\n",
    "print(f\"mean: {np.mean(reviews_len)} \")\n",
    "print(f\"std: {np.std(reviews_len)} \")\n",
    "print(f\"median: {np.median(reviews_len)} \")\n",
    "print(f\"Q1: {np.percentile(reviews_len, 25)} \")\n",
    "print(f\"Q3: {np.percentile(reviews_len, 75)} \")"
   ]
  },
  {
   "cell_type": "code",
   "execution_count": 7,
   "metadata": {},
   "outputs": [
    {
     "name": "stderr",
     "output_type": "stream",
     "text": [
      "/home/jarod/anaconda3/envs/innovation/lib/python3.8/site-packages/seaborn/distributions.py:2551: FutureWarning: `distplot` is a deprecated function and will be removed in a future version. Please adapt your code to use either `displot` (a figure-level function with similar flexibility) or `histplot` (an axes-level function for histograms).\n",
      "  warnings.warn(msg, FutureWarning)\n"
     ]
    },
    {
     "data": {
      "image/png": "[encoded data removed]",
      "text/plain": [
       "<Figure size 720x360 with 1 Axes>"
      ]
     },
     "metadata": {
      "needs_background": "light"
     },
     "output_type": "display_data"
    }
   ],
   "source": [
    "plt.figure(figsize=(10,5))\n",
    "ax = sns.distplot(reviews_len, bins=150, kde=False, hist_kws=dict(alpha=0.8))\n",
    "ax.set(xlabel='Review Length')\n",
    "\n",
    "# Finalize the plot\n",
    "sns.despine(bottom=True)\n",
    "plt.tight_layout(h_pad=2)\n",
    "\n",
    "# Saving plot\n",
    "fig = ax.get_figure()"
   ]
  },
  {
   "cell_type": "code",
   "execution_count": 9,
   "metadata": {},
   "outputs": [
    {
     "name": "stdout",
     "output_type": "stream",
     "text": [
      "33726 reviews with LEN > 2000 (5.06 % of total data)\n"
     ]
    }
   ],
   "source": [
    "THRESHOLD = 2000\n",
    "short_reviews = data[reviews_len <= THRESHOLD]\n",
    "long_reviews =  data[reviews_len > THRESHOLD]\n",
    "\n",
    "print(\"{} reviews with LEN > {} ({:.2f} % of total data)\".format(\n",
    "    len(long_reviews),\n",
    "    THRESHOLD,\n",
    "    100 * len(long_reviews) / len(data)\n",
    "))"
   ]
  },
  {
   "cell_type": "code",
   "execution_count": 10,
   "metadata": {},
   "outputs": [
    {
     "data": {
      "text/html": [
       "<div>\n",
       "<style scoped>\n",
       "    .dataframe tbody tr th:only-of-type {\n",
       "        vertical-align: middle;\n",
       "    }\n",
       "\n",
       "    .dataframe tbody tr th {\n",
       "        vertical-align: top;\n",
       "    }\n",
       "\n",
       "    .dataframe thead th {\n",
       "        text-align: right;\n",
       "    }\n",
       "</style>\n",
       "<table border=\"1\" class=\"dataframe\">\n",
       "  <thead>\n",
       "    <tr style=\"text-align: right;\">\n",
       "      <th></th>\n",
       "      <th>review_id</th>\n",
       "      <th>name</th>\n",
       "      <th>user_id</th>\n",
       "      <th>commentaire</th>\n",
       "      <th>movie</th>\n",
       "      <th>note</th>\n",
       "    </tr>\n",
       "  </thead>\n",
       "  <tbody>\n",
       "    <tr>\n",
       "      <th>1</th>\n",
       "      <td>review_59303833</td>\n",
       "      <td>this is my movies</td>\n",
       "      <td>Z20051220181957240298347</td>\n",
       "      <td>(...) En soi, je n'ai rien contre ce genre de ...</td>\n",
       "      <td>{'id': '229864'}</td>\n",
       "      <td>3.5</td>\n",
       "    </tr>\n",
       "  </tbody>\n",
       "</table>\n",
       "</div>"
      ],
      "text/plain": [
       "         review_id               name                   user_id  \\\n",
       "1  review_59303833  this is my movies  Z20051220181957240298347   \n",
       "\n",
       "                                         commentaire             movie  note  \n",
       "1  (...) En soi, je n'ai rien contre ce genre de ...  {'id': '229864'}   3.5  "
      ]
     },
     "execution_count": 10,
     "metadata": {},
     "output_type": "execute_result"
    }
   ],
   "source": [
    "long_reviews.head(1)"
   ]
  },
  {
   "cell_type": "code",
   "execution_count": 11,
   "metadata": {},
   "outputs": [
    {
     "name": "stderr",
     "output_type": "stream",
     "text": [
      "/home/jarod/anaconda3/envs/innovation/lib/python3.8/site-packages/seaborn/distributions.py:2551: FutureWarning: `distplot` is a deprecated function and will be removed in a future version. Please adapt your code to use either `displot` (a figure-level function with similar flexibility) or `histplot` (an axes-level function for histograms).\n",
      "  warnings.warn(msg, FutureWarning)\n"
     ]
    },
    {
     "data": {
      "image/png": "[encoded data removed]",
      "text/plain": [
       "<Figure size 576x360 with 1 Axes>"
      ]
     },
     "metadata": {
      "needs_background": "light"
     },
     "output_type": "display_data"
    }
   ],
   "source": [
    "short_reviews_length = short_reviews['commentaire'].str.len()\n",
    "\n",
    "plt.figure(figsize=(8,5))\n",
    "ax = sns.distplot(short_reviews_length, bins=100, kde=False, hist_kws=dict(alpha=0.8))\n",
    "ax.set(xlabel='Review Length')\n",
    "\n",
    "# Finalize the plot\n",
    "sns.despine(bottom=True)\n",
    "plt.tight_layout(h_pad=2)\n",
    "\n",
    "# Saving plot\n",
    "fig = ax.get_figure()\n",
    "#fig.savefig('img/short_reviews_length.png', dpi=200)"
   ]
  },
  {
   "cell_type": "code",
   "execution_count": null,
   "metadata": {},
   "outputs": [],
   "source": []
  }
 ],
 "metadata": {
  "kernelspec": {
   "display_name": "Python 3",
   "language": "python",
   "name": "python3"
  },
  "language_info": {
   "codemirror_mode": {
    "name": "ipython",
    "version": 3
   },
   "file_extension": ".py",
   "mimetype": "text/x-python",
   "name": "python",
   "nbconvert_exporter": "python",
   "pygments_lexer": "ipython3",
   "version": "3.8.5"
  }
 },
 "nbformat": 4,
 "nbformat_minor": 4
}
