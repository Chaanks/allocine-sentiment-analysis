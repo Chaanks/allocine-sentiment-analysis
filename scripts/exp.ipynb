{
 "cells": [
  {
   "cell_type": "code",
   "execution_count": null,
   "metadata": {},
   "outputs": [
    {
     "name": "stdout",
     "output_type": "stream",
     "text": [
      "\u001b[1;33mParsing \u001b[1;37m../data/xml/train.xml\u001b[1;33m file..\u001b[0m "
     ]
    }
   ],
   "source": [
    "import utils\n",
    "import pathlib\n",
    "\n",
    "dataset_name = 'train'\n",
    "\n",
    "data_folder = pathlib.Path('../data')\n",
    "json_folder = data_folder / 'json'\n",
    "\n",
    "xml_file   = data_folder / f'xml/{dataset_name}.xml'\n",
    "extra_file = json_folder / f'movie_additional.json'\n",
    "es_folder  = data_folder / 'es'\n",
    "\n",
    "utils.xml_to_ndjson(xml_file, json_folder, es_folder, extra_file)"
   ]
  },
  {
   "cell_type": "code",
   "execution_count": null,
   "metadata": {},
   "outputs": [],
   "source": []
  }
 ],
 "metadata": {
  "kernelspec": {
   "display_name": "Python 3",
   "language": "python",
   "name": "python3"
  },
  "language_info": {
   "codemirror_mode": {
    "name": "ipython",
    "version": 3
   },
   "file_extension": ".py",
   "mimetype": "text/x-python",
   "name": "python",
   "nbconvert_exporter": "python",
   "pygments_lexer": "ipython3",
   "version": "3.8.5"
  }
 },
 "nbformat": 4,
 "nbformat_minor": 4
}
