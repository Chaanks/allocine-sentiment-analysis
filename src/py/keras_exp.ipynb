{
 "cells": [
  {
   "cell_type": "code",
   "execution_count": 1,
   "metadata": {},
   "outputs": [],
   "source": [
    "import os\n",
    "import pickle\n",
    "import pathlib\n",
    "from pathlib import Path\n",
    "import numpy as np\n",
    "from loguru import logger\n",
    "import tensorflow as tf\n",
    "from tensorflow.keras.layers.experimental.preprocessing import TextVectorization\n",
    "from tensorflow.keras import backend as K\n",
    "import json\n",
    "import pandas as pd"
   ]
  },
  {
   "cell_type": "code",
   "execution_count": 2,
   "metadata": {},
   "outputs": [],
   "source": [
    "def load_json(filename):# Loading raw json file\n",
    "    with open(filename, 'r', encoding='utf8') as file:   \n",
    "        return json.load(file)\n",
    "    \n",
    "def save_json(data, filename):\n",
    "    json_str = json.dumps(data)\n",
    "    with open(filename, \"w\") as f: \n",
    "        f.write(json_str) "
   ]
  },
  {
   "cell_type": "code",
   "execution_count": 3,
   "metadata": {},
   "outputs": [],
   "source": [
    "root = Path('/home/jarod/git/innovation/allocine-sentiment-analysis')\n",
    "corpus = root / 'data/allocine_filtered'\n",
    "data = root / 'data/json'\n",
    "\n",
    "train_ds = corpus / 'train'\n",
    "eval_ds = corpus / 'eval'\n",
    "\n",
    "dev_path = data / 'dev.json'\n",
    "train_path = data / 'train.json'\n",
    "test_path = data / 'test.json'\n",
    "\n",
    "users_path = data / 'users.json'\n",
    "users_add_1_path = data / 'users_additional_1.json'\n",
    "users_add_2_path = data / 'users_additional_2.json'\n",
    "users_add_3_path = data / 'users_additional_3.json'\n",
    "\n",
    "movies_path = data / 'movies.json'\n",
    "movies_add_path = data / 'movies_additional.json'\n"
   ]
  },
  {
   "cell_type": "code",
   "execution_count": 45,
   "metadata": {},
   "outputs": [],
   "source": [
    "# explore meta-data about films"
   ]
  },
  {
   "cell_type": "code",
   "execution_count": 37,
   "metadata": {},
   "outputs": [],
   "source": [
    "movies = load_json(movies_path)\n",
    "movies_add = load_json(movies_add_path)"
   ]
  },
  {
   "cell_type": "code",
   "execution_count": 36,
   "metadata": {},
   "outputs": [],
   "source": [
    "# concat and save meta-data about users"
   ]
  },
  {
   "cell_type": "code",
   "execution_count": 28,
   "metadata": {},
   "outputs": [],
   "source": [
    "users_add_1 = load_json(users_add_1_path)\n",
    "users_add_2 = load_json(users_add_2_path)\n",
    "users_add_3 = load_json(users_add_3_path)"
   ]
  },
  {
   "cell_type": "code",
   "execution_count": 30,
   "metadata": {},
   "outputs": [],
   "source": [
    "users_add = dict(users_add_1) # usr2add\n",
    "users_add.update(users_add_2)\n",
    "users_add.update(users_add_3)"
   ]
  },
  {
   "cell_type": "code",
   "execution_count": 34,
   "metadata": {},
   "outputs": [],
   "source": [
    "save_json(users_add, data / 'users_additional.json')"
   ]
  },
  {
   "cell_type": "code",
   "execution_count": 42,
   "metadata": {},
   "outputs": [],
   "source": [
    "users_add = load_json(data / 'users_additional.json')"
   ]
  },
  {
   "cell_type": "code",
   "execution_count": 37,
   "metadata": {},
   "outputs": [],
   "source": [
    "# construct final dataset"
   ]
  },
  {
   "cell_type": "code",
   "execution_count": 38,
   "metadata": {},
   "outputs": [],
   "source": [
    "users = load_json(users_path)"
   ]
  },
  {
   "cell_type": "code",
   "execution_count": 47,
   "metadata": {},
   "outputs": [
    {
     "name": "stdout",
     "output_type": "stream",
     "text": [
      "100400\n",
      "665962\n",
      "85847\n"
     ]
    }
   ],
   "source": [
    "dev = load_json(dev_path)\n",
    "train = load_json(train_path)\n",
    "test = load_json(test_path)\n",
    "\n",
    "print(len(dev))\n",
    "print(len(train))\n",
    "print(len(test))"
   ]
  },
  {
   "cell_type": "code",
   "execution_count": 31,
   "metadata": {},
   "outputs": [],
   "source": [
    "users2reviews = {}\n",
    "reviews2users = {}"
   ]
  },
  {
   "cell_type": "code",
   "execution_count": 32,
   "metadata": {},
   "outputs": [],
   "source": [
    "full = train + dev + test"
   ]
  },
  {
   "cell_type": "code",
   "execution_count": 33,
   "metadata": {},
   "outputs": [],
   "source": [
    "for sample in full:\n",
    "    # users to reviews mapping\n",
    "    if sample['user_id'] not in users2reviews:\n",
    "        users2reviews[sample['user_id']] = []\n",
    "    users2reviews[sample['user_id']].append(sample)\n",
    "    \n",
    "    # reviews to users mapping\n",
    "    reviews2users[sample['review_id']] = sample['user_id']"
   ]
  },
  {
   "cell_type": "code",
   "execution_count": 34,
   "metadata": {},
   "outputs": [],
   "source": [
    "save_json(users2reviews, data / 'users2reviews.json')\n",
    "save_json(reviews2users, data / 'reviews2users.json')"
   ]
  },
  {
   "cell_type": "code",
   "execution_count": 76,
   "metadata": {},
   "outputs": [],
   "source": [
    "# compute user stats"
   ]
  },
  {
   "cell_type": "code",
   "execution_count": 48,
   "metadata": {},
   "outputs": [],
   "source": [
    "users2scores = {}\n",
    "for (user, rws) in users2reviews.items():\n",
    "    scores = []\n",
    "    for rw in rws:\n",
    "        if 'note' in rw:\n",
    "            scores.append(rw['note'])\n",
    "    \n",
    "    users2scores[user] = scores"
   ]
  },
  {
   "cell_type": "code",
   "execution_count": 95,
   "metadata": {},
   "outputs": [],
   "source": [
    "save_json(users2scores, data / 'users2scores.json')"
   ]
  },
  {
   "cell_type": "code",
   "execution_count": 96,
   "metadata": {},
   "outputs": [],
   "source": [
    "# construct dataset"
   ]
  },
  {
   "cell_type": "code",
   "execution_count": 52,
   "metadata": {},
   "outputs": [],
   "source": [
    "for i in range(len(test)):\n",
    "    sample = test[i]\n",
    "\n",
    "    # add movie meta-data\n",
    "    sample['movie_id'] = sample['movie']['id']\n",
    "    sample.pop('movie', None)\n",
    "    movie_add = movies_add[sample['movie_id']]\n",
    "    movie_add.pop('data', None)\n",
    "    sample.update(movie_add)\n",
    "    \n",
    "    # add user meta-data\n",
    "    user_add = users_add[sample['user_id']]\n",
    "    sample.update(user_add)\n",
    "    \n",
    "    # add user stats\n",
    "    scores = np.array(users2scores[sample['user_id']])\n",
    "    if len(scores) > 0:\n",
    "        sample['note_mean'] = scores.mean()\n",
    "        sample['note_std'] = scores.std()\n",
    "    else:\n",
    "        sample['note_mean'] = 0.0\n",
    "        sample['note_std'] = 1.0\n",
    "    "
   ]
  },
  {
   "cell_type": "code",
   "execution_count": 50,
   "metadata": {},
   "outputs": [
    {
     "name": "stdout",
     "output_type": "stream",
     "text": [
      "{'review_id': 'review_58145147', 'name': 'AM11', 'user_id': 'Z20051105131449940367618', 'commentaire': '\"Ce n\\'est pas ce qui se trouve en face de vous, c\\'est qui se tient à côté de vous\". Cette phrase qui est la tagline du film veut tout dire et le résume parfaitement. Pour son premier film qui n\\'est pas un de science-fiction, Joseph Kosinski s\\'intéresse à ces pompiers d\\'élite en tant que professionnels, mais surtout en tant qu\\'hommes. Il dresse un très beau portrait d\\'une bande de potes prêts à tout sacrifier pour protéger leur environnement des flammes. Le film est davantage centré sur le quotidien de ces héros qui font face à de nombreux dilemmes, mais cela n\\'empêche pas que les scènes de terrain soient aussi superbes que terribles et surtout vraiment impressionnantes comme en témoigne notamment cet excellent final. C\\'est une histoire inspirée de faits réels donc si vous ne la connaissez pas, le mieux est dans un premier temps de la découvrir à travers le film, l\\'expérience sera bien plus forte et efficace. C\\'est un très bon film avec une histoire puissante et pleine d\\'humanité, un traitement sobre et très juste puisque ce n\\'est jamais forcé tandis que sur le plan technique, c\\'est très solide avec des scènes d\\'un grand réalisme. En somme, un très beau divertissement.', 'note': 4.0, 'movie_id': '229864', 'directors': ['Joseph Kosinski'], 'kinds': ['Drame', 'Biopic'], 'title': 'Line of Fire', 'rating': 6004, 'review': 2929, 'subscriber': 2816, 'note_mean': 2.854198089492207, 'note_std': 0.7698169410002291}\n"
     ]
    }
   ],
   "source": [
    "print(train[0])"
   ]
  },
  {
   "cell_type": "code",
   "execution_count": 53,
   "metadata": {},
   "outputs": [],
   "source": [
    "save_json(dev, data / 'dev_full.json')\n",
    "save_json(train, data / 'train_full.json')\n",
    "save_json(test, data / 'test_full.json')"
   ]
  },
  {
   "cell_type": "code",
   "execution_count": 113,
   "metadata": {},
   "outputs": [],
   "source": [
    "df_dev = pd.DataFrame(dev)"
   ]
  },
  {
   "cell_type": "code",
   "execution_count": 123,
   "metadata": {},
   "outputs": [
    {
     "data": {
      "text/html": [
       "<div>\n",
       "<style scoped>\n",
       "    .dataframe tbody tr th:only-of-type {\n",
       "        vertical-align: middle;\n",
       "    }\n",
       "\n",
       "    .dataframe tbody tr th {\n",
       "        vertical-align: top;\n",
       "    }\n",
       "\n",
       "    .dataframe thead th {\n",
       "        text-align: right;\n",
       "    }\n",
       "</style>\n",
       "<table border=\"1\" class=\"dataframe\">\n",
       "  <thead>\n",
       "    <tr style=\"text-align: right;\">\n",
       "      <th></th>\n",
       "      <th>review_id</th>\n",
       "      <th>name</th>\n",
       "      <th>user_id</th>\n",
       "      <th>commentaire</th>\n",
       "      <th>movie</th>\n",
       "      <th>note</th>\n",
       "      <th>directors</th>\n",
       "      <th>kinds</th>\n",
       "      <th>title</th>\n",
       "      <th>rating</th>\n",
       "      <th>review</th>\n",
       "      <th>subscriber</th>\n",
       "      <th>note_mean</th>\n",
       "      <th>note_std</th>\n",
       "    </tr>\n",
       "  </thead>\n",
       "  <tbody>\n",
       "    <tr>\n",
       "      <th>0</th>\n",
       "      <td>review_57113853</td>\n",
       "      <td>I'm A Rocket Man</td>\n",
       "      <td>Z20150411212834470532236</td>\n",
       "      <td>Ce téléfilm est tout simplement bouleversant !...</td>\n",
       "      <td>{'id': '244430'}</td>\n",
       "      <td>5.0</td>\n",
       "      <td>[Bourlem Guerdjou]</td>\n",
       "      <td>[Drame]</td>\n",
       "      <td>Marion, 13 ans pour toujours</td>\n",
       "      <td>2081</td>\n",
       "      <td>1350</td>\n",
       "      <td>81</td>\n",
       "      <td>3.28304</td>\n",
       "      <td>1.454811</td>\n",
       "    </tr>\n",
       "  </tbody>\n",
       "</table>\n",
       "</div>"
      ],
      "text/plain": [
       "         review_id              name                   user_id  \\\n",
       "0  review_57113853  I'm A Rocket Man  Z20150411212834470532236   \n",
       "\n",
       "                                         commentaire             movie  note  \\\n",
       "0  Ce téléfilm est tout simplement bouleversant !...  {'id': '244430'}   5.0   \n",
       "\n",
       "            directors    kinds                         title  rating  review  \\\n",
       "0  [Bourlem Guerdjou]  [Drame]  Marion, 13 ans pour toujours    2081    1350   \n",
       "\n",
       "   subscriber  note_mean  note_std  \n",
       "0          81    3.28304  1.454811  "
      ]
     },
     "execution_count": 123,
     "metadata": {},
     "output_type": "execute_result"
    }
   ],
   "source": [
    "df_dev.head(1)"
   ]
  },
  {
   "cell_type": "code",
   "execution_count": null,
   "metadata": {},
   "outputs": [],
   "source": []
  },
  {
   "cell_type": "code",
   "execution_count": null,
   "metadata": {},
   "outputs": [],
   "source": []
  },
  {
   "cell_type": "code",
   "execution_count": 4,
   "metadata": {},
   "outputs": [],
   "source": [
    "# generate dataset"
   ]
  },
  {
   "cell_type": "code",
   "execution_count": 10,
   "metadata": {},
   "outputs": [],
   "source": [
    "import utils\n",
    "import spacy"
   ]
  },
  {
   "cell_type": "code",
   "execution_count": 16,
   "metadata": {},
   "outputs": [],
   "source": [
    "# Loading SpaCy model from tokenization utilities\n",
    "spacy.prefer_gpu()\n",
    "nlp = spacy.load(\"fr_core_news_sm\")\n",
    "\n",
    "with open(pathlib.Path(data / 'stopwords.json'), \"r\", encoding=\"utf8\") as file:\n",
    "    nlp.Defaults.stop_words = set(json.load(file))"
   ]
  },
  {
   "cell_type": "code",
   "execution_count": 54,
   "metadata": {},
   "outputs": [],
   "source": [
    "ds_train_path = data / 'train_full.json'\n",
    "ds_dev_path = data / 'dev_full.json'\n",
    "ds_test_path = data / 'test_full.json'"
   ]
  },
  {
   "cell_type": "code",
   "execution_count": 78,
   "metadata": {},
   "outputs": [],
   "source": [
    "#ds_dev = load_json(ds_dev_path)\n",
    "#ds_train = load_json(ds_train_path)\n",
    "ds_test = load_json(ds_test_path)"
   ]
  },
  {
   "cell_type": "code",
   "execution_count": 79,
   "metadata": {},
   "outputs": [
    {
     "name": "stdout",
     "output_type": "stream",
     "text": [
      "remove\n",
      "remove\n"
     ]
    }
   ],
   "source": [
    "clean = []\n",
    "for i in range(len(ds_test)):\n",
    "    review = ds_test[i]\n",
    "    # Filters and standardize review's content\n",
    "    filtered = utils.filter_comment(review[\"commentaire\"], nlp=None)\n",
    "    if len(filtered) == 0:\n",
    "        print('remove')\n",
    "    else:\n",
    "        review[\"commentaire\"] = filtered\n",
    "        clean.append(review)"
   ]
  },
  {
   "cell_type": "code",
   "execution_count": 80,
   "metadata": {},
   "outputs": [
    {
     "data": {
      "text/plain": [
       "85845"
      ]
     },
     "execution_count": 80,
     "metadata": {},
     "output_type": "execute_result"
    }
   ],
   "source": [
    "len(clean)"
   ]
  },
  {
   "cell_type": "code",
   "execution_count": null,
   "metadata": {},
   "outputs": [],
   "source": [
    "# csv"
   ]
  },
  {
   "cell_type": "code",
   "execution_count": 81,
   "metadata": {},
   "outputs": [
    {
     "data": {
      "text/html": [
       "<div>\n",
       "<style scoped>\n",
       "    .dataframe tbody tr th:only-of-type {\n",
       "        vertical-align: middle;\n",
       "    }\n",
       "\n",
       "    .dataframe tbody tr th {\n",
       "        vertical-align: top;\n",
       "    }\n",
       "\n",
       "    .dataframe thead th {\n",
       "        text-align: right;\n",
       "    }\n",
       "</style>\n",
       "<table border=\"1\" class=\"dataframe\">\n",
       "  <thead>\n",
       "    <tr style=\"text-align: right;\">\n",
       "      <th></th>\n",
       "      <th>review_id</th>\n",
       "      <th>name</th>\n",
       "      <th>user_id</th>\n",
       "      <th>commentaire</th>\n",
       "      <th>note</th>\n",
       "      <th>movie_id</th>\n",
       "      <th>directors</th>\n",
       "      <th>kinds</th>\n",
       "      <th>title</th>\n",
       "      <th>rating</th>\n",
       "      <th>review</th>\n",
       "      <th>subscriber</th>\n",
       "      <th>note_mean</th>\n",
       "      <th>note_std</th>\n",
       "    </tr>\n",
       "  </thead>\n",
       "  <tbody>\n",
       "    <tr>\n",
       "      <th>0</th>\n",
       "      <td>review_58145147</td>\n",
       "      <td>AM11</td>\n",
       "      <td>Z20051105131449940367618</td>\n",
       "      <td>ce n est pas ce qui se trouve en face de vous ...</td>\n",
       "      <td>4.0</td>\n",
       "      <td>229864</td>\n",
       "      <td>[Joseph Kosinski]</td>\n",
       "      <td>[Drame, Biopic]</td>\n",
       "      <td>Line of Fire</td>\n",
       "      <td>6004</td>\n",
       "      <td>2929</td>\n",
       "      <td>2816</td>\n",
       "      <td>2.854198</td>\n",
       "      <td>0.769817</td>\n",
       "    </tr>\n",
       "    <tr>\n",
       "      <th>1</th>\n",
       "      <td>review_59303833</td>\n",
       "      <td>this is my movies</td>\n",
       "      <td>Z20051220181957240298347</td>\n",
       "      <td>... en soi je n ai rien contre ce genre de réc...</td>\n",
       "      <td>3.5</td>\n",
       "      <td>229864</td>\n",
       "      <td>[Joseph Kosinski]</td>\n",
       "      <td>[Drame, Biopic]</td>\n",
       "      <td>Line of Fire</td>\n",
       "      <td>3662</td>\n",
       "      <td>2564</td>\n",
       "      <td>344</td>\n",
       "      <td>3.523349</td>\n",
       "      <td>0.799468</td>\n",
       "    </tr>\n",
       "    <tr>\n",
       "      <th>2</th>\n",
       "      <td>review_61916672</td>\n",
       "      <td>Shephard69</td>\n",
       "      <td>Z20121226180301760912584</td>\n",
       "      <td>pour sa troisième réalisation après tron l hér...</td>\n",
       "      <td>4.5</td>\n",
       "      <td>229864</td>\n",
       "      <td>[Joseph Kosinski]</td>\n",
       "      <td>[Drame, Biopic]</td>\n",
       "      <td>Line of Fire</td>\n",
       "      <td>2387</td>\n",
       "      <td>1882</td>\n",
       "      <td>127</td>\n",
       "      <td>3.400558</td>\n",
       "      <td>1.147512</td>\n",
       "    </tr>\n",
       "    <tr>\n",
       "      <th>3</th>\n",
       "      <td>review_1000190786</td>\n",
       "      <td>Tayop</td>\n",
       "      <td>Z20121022182542230468657</td>\n",
       "      <td>joseph kosinski offre de nouvelles images ébou...</td>\n",
       "      <td>3.0</td>\n",
       "      <td>229864</td>\n",
       "      <td>[Joseph Kosinski]</td>\n",
       "      <td>[Drame, Biopic]</td>\n",
       "      <td>Line of Fire</td>\n",
       "      <td>5797</td>\n",
       "      <td>1342</td>\n",
       "      <td>44</td>\n",
       "      <td>2.914270</td>\n",
       "      <td>0.894678</td>\n",
       "    </tr>\n",
       "    <tr>\n",
       "      <th>4</th>\n",
       "      <td>review_59207755</td>\n",
       "      <td>ned123</td>\n",
       "      <td>Z20061211223247607682175</td>\n",
       "      <td>j ai vu un film... qui traite d un drame humai...</td>\n",
       "      <td>3.5</td>\n",
       "      <td>229864</td>\n",
       "      <td>[Joseph Kosinski]</td>\n",
       "      <td>[Drame, Biopic]</td>\n",
       "      <td>Line of Fire</td>\n",
       "      <td>1338</td>\n",
       "      <td>1138</td>\n",
       "      <td>67</td>\n",
       "      <td>3.638662</td>\n",
       "      <td>0.815544</td>\n",
       "    </tr>\n",
       "  </tbody>\n",
       "</table>\n",
       "</div>"
      ],
      "text/plain": [
       "           review_id               name                   user_id  \\\n",
       "0    review_58145147               AM11  Z20051105131449940367618   \n",
       "1    review_59303833  this is my movies  Z20051220181957240298347   \n",
       "2    review_61916672         Shephard69  Z20121226180301760912584   \n",
       "3  review_1000190786              Tayop  Z20121022182542230468657   \n",
       "4    review_59207755             ned123  Z20061211223247607682175   \n",
       "\n",
       "                                         commentaire  note movie_id  \\\n",
       "0  ce n est pas ce qui se trouve en face de vous ...   4.0   229864   \n",
       "1  ... en soi je n ai rien contre ce genre de réc...   3.5   229864   \n",
       "2  pour sa troisième réalisation après tron l hér...   4.5   229864   \n",
       "3  joseph kosinski offre de nouvelles images ébou...   3.0   229864   \n",
       "4  j ai vu un film... qui traite d un drame humai...   3.5   229864   \n",
       "\n",
       "           directors            kinds         title  rating  review  \\\n",
       "0  [Joseph Kosinski]  [Drame, Biopic]  Line of Fire    6004    2929   \n",
       "1  [Joseph Kosinski]  [Drame, Biopic]  Line of Fire    3662    2564   \n",
       "2  [Joseph Kosinski]  [Drame, Biopic]  Line of Fire    2387    1882   \n",
       "3  [Joseph Kosinski]  [Drame, Biopic]  Line of Fire    5797    1342   \n",
       "4  [Joseph Kosinski]  [Drame, Biopic]  Line of Fire    1338    1138   \n",
       "\n",
       "   subscriber  note_mean  note_std  \n",
       "0        2816   2.854198  0.769817  \n",
       "1         344   3.523349  0.799468  \n",
       "2         127   3.400558  1.147512  \n",
       "3          44   2.914270  0.894678  \n",
       "4          67   3.638662  0.815544  "
      ]
     },
     "execution_count": 81,
     "metadata": {},
     "output_type": "execute_result"
    }
   ],
   "source": [
    "#df_dev = pd.DataFrame(clean)\n",
    "#df_train = pd.DataFrame(clean)\n",
    "df_test = pd.DataFrame(clean)\n",
    "df_train.head(5)"
   ]
  },
  {
   "cell_type": "code",
   "execution_count": 82,
   "metadata": {},
   "outputs": [
    {
     "data": {
      "text/html": [
       "<div>\n",
       "<style scoped>\n",
       "    .dataframe tbody tr th:only-of-type {\n",
       "        vertical-align: middle;\n",
       "    }\n",
       "\n",
       "    .dataframe tbody tr th {\n",
       "        vertical-align: top;\n",
       "    }\n",
       "\n",
       "    .dataframe thead th {\n",
       "        text-align: right;\n",
       "    }\n",
       "</style>\n",
       "<table border=\"1\" class=\"dataframe\">\n",
       "  <thead>\n",
       "    <tr style=\"text-align: right;\">\n",
       "      <th></th>\n",
       "      <th>review_id</th>\n",
       "      <th>commentaire</th>\n",
       "      <th>movie_id</th>\n",
       "      <th>directors</th>\n",
       "      <th>kinds</th>\n",
       "      <th>rating</th>\n",
       "      <th>review</th>\n",
       "      <th>subscriber</th>\n",
       "      <th>note_mean</th>\n",
       "      <th>note_std</th>\n",
       "    </tr>\n",
       "  </thead>\n",
       "  <tbody>\n",
       "    <tr>\n",
       "      <th>0</th>\n",
       "      <td>review_59354742</td>\n",
       "      <td>12 jours un film que j ai raté à sa sortie et ...</td>\n",
       "      <td>253727</td>\n",
       "      <td>[Raymond Depardon]</td>\n",
       "      <td>[Documentaire]</td>\n",
       "      <td>4518</td>\n",
       "      <td>2741</td>\n",
       "      <td>1593</td>\n",
       "      <td>2.384467</td>\n",
       "      <td>1.256869</td>\n",
       "    </tr>\n",
       "    <tr>\n",
       "      <th>1</th>\n",
       "      <td>review_62570109</td>\n",
       "      <td>ces lueurs dans ces yeux... soit ils sont tous...</td>\n",
       "      <td>253727</td>\n",
       "      <td>[Raymond Depardon]</td>\n",
       "      <td>[Documentaire]</td>\n",
       "      <td>4300</td>\n",
       "      <td>2559</td>\n",
       "      <td>307</td>\n",
       "      <td>2.986261</td>\n",
       "      <td>1.159985</td>\n",
       "    </tr>\n",
       "    <tr>\n",
       "      <th>2</th>\n",
       "      <td>review_58180650</td>\n",
       "      <td>il s agit d un documentaire sans la moindre ac...</td>\n",
       "      <td>253727</td>\n",
       "      <td>[Raymond Depardon]</td>\n",
       "      <td>[Documentaire]</td>\n",
       "      <td>2699</td>\n",
       "      <td>1286</td>\n",
       "      <td>299</td>\n",
       "      <td>2.788321</td>\n",
       "      <td>1.401541</td>\n",
       "    </tr>\n",
       "    <tr>\n",
       "      <th>3</th>\n",
       "      <td>review_57696986</td>\n",
       "      <td>un documentaire magnifique dans cette unité ly...</td>\n",
       "      <td>253727</td>\n",
       "      <td>[Raymond Depardon]</td>\n",
       "      <td>[Documentaire]</td>\n",
       "      <td>2232</td>\n",
       "      <td>2138</td>\n",
       "      <td>245</td>\n",
       "      <td>3.688907</td>\n",
       "      <td>0.892136</td>\n",
       "    </tr>\n",
       "    <tr>\n",
       "      <th>4</th>\n",
       "      <td>review_57736972</td>\n",
       "      <td>un documentaire très intéressant quand bien mê...</td>\n",
       "      <td>253727</td>\n",
       "      <td>[Raymond Depardon]</td>\n",
       "      <td>[Documentaire]</td>\n",
       "      <td>2544</td>\n",
       "      <td>2139</td>\n",
       "      <td>465</td>\n",
       "      <td>2.957447</td>\n",
       "      <td>1.079520</td>\n",
       "    </tr>\n",
       "    <tr>\n",
       "      <th>5</th>\n",
       "      <td>review_57510418</td>\n",
       "      <td>c est un documentaire vraiment remarquable. il...</td>\n",
       "      <td>253727</td>\n",
       "      <td>[Raymond Depardon]</td>\n",
       "      <td>[Documentaire]</td>\n",
       "      <td>2054</td>\n",
       "      <td>2025</td>\n",
       "      <td>586</td>\n",
       "      <td>3.758964</td>\n",
       "      <td>1.021516</td>\n",
       "    </tr>\n",
       "    <tr>\n",
       "      <th>6</th>\n",
       "      <td>review_57494638</td>\n",
       "      <td>depuis 2013 le maintien sans son consentement ...</td>\n",
       "      <td>253727</td>\n",
       "      <td>[Raymond Depardon]</td>\n",
       "      <td>[Documentaire]</td>\n",
       "      <td>2147</td>\n",
       "      <td>2054</td>\n",
       "      <td>516</td>\n",
       "      <td>2.568898</td>\n",
       "      <td>0.981461</td>\n",
       "    </tr>\n",
       "    <tr>\n",
       "      <th>7</th>\n",
       "      <td>review_1000981932</td>\n",
       "      <td>comme toujours raymond depardon propose un doc...</td>\n",
       "      <td>253727</td>\n",
       "      <td>[Raymond Depardon]</td>\n",
       "      <td>[Documentaire]</td>\n",
       "      <td>1608</td>\n",
       "      <td>1227</td>\n",
       "      <td>48</td>\n",
       "      <td>2.673996</td>\n",
       "      <td>1.024244</td>\n",
       "    </tr>\n",
       "    <tr>\n",
       "      <th>8</th>\n",
       "      <td>review_57550213</td>\n",
       "      <td>depardon commettait il y a plusieurs années ur...</td>\n",
       "      <td>253727</td>\n",
       "      <td>[Raymond Depardon]</td>\n",
       "      <td>[Documentaire]</td>\n",
       "      <td>1100</td>\n",
       "      <td>1078</td>\n",
       "      <td>184</td>\n",
       "      <td>3.349508</td>\n",
       "      <td>0.966672</td>\n",
       "    </tr>\n",
       "    <tr>\n",
       "      <th>9</th>\n",
       "      <td>review_57505347</td>\n",
       "      <td>j ai connu raymond depardon plus inspiré plus ...</td>\n",
       "      <td>253727</td>\n",
       "      <td>[Raymond Depardon]</td>\n",
       "      <td>[Documentaire]</td>\n",
       "      <td>1159</td>\n",
       "      <td>1018</td>\n",
       "      <td>148</td>\n",
       "      <td>3.377712</td>\n",
       "      <td>0.769126</td>\n",
       "    </tr>\n",
       "  </tbody>\n",
       "</table>\n",
       "</div>"
      ],
      "text/plain": [
       "           review_id                                        commentaire  \\\n",
       "0    review_59354742  12 jours un film que j ai raté à sa sortie et ...   \n",
       "1    review_62570109  ces lueurs dans ces yeux... soit ils sont tous...   \n",
       "2    review_58180650  il s agit d un documentaire sans la moindre ac...   \n",
       "3    review_57696986  un documentaire magnifique dans cette unité ly...   \n",
       "4    review_57736972  un documentaire très intéressant quand bien mê...   \n",
       "5    review_57510418  c est un documentaire vraiment remarquable. il...   \n",
       "6    review_57494638  depuis 2013 le maintien sans son consentement ...   \n",
       "7  review_1000981932  comme toujours raymond depardon propose un doc...   \n",
       "8    review_57550213  depardon commettait il y a plusieurs années ur...   \n",
       "9    review_57505347  j ai connu raymond depardon plus inspiré plus ...   \n",
       "\n",
       "  movie_id           directors           kinds  rating  review  subscriber  \\\n",
       "0   253727  [Raymond Depardon]  [Documentaire]    4518    2741        1593   \n",
       "1   253727  [Raymond Depardon]  [Documentaire]    4300    2559         307   \n",
       "2   253727  [Raymond Depardon]  [Documentaire]    2699    1286         299   \n",
       "3   253727  [Raymond Depardon]  [Documentaire]    2232    2138         245   \n",
       "4   253727  [Raymond Depardon]  [Documentaire]    2544    2139         465   \n",
       "5   253727  [Raymond Depardon]  [Documentaire]    2054    2025         586   \n",
       "6   253727  [Raymond Depardon]  [Documentaire]    2147    2054         516   \n",
       "7   253727  [Raymond Depardon]  [Documentaire]    1608    1227          48   \n",
       "8   253727  [Raymond Depardon]  [Documentaire]    1100    1078         184   \n",
       "9   253727  [Raymond Depardon]  [Documentaire]    1159    1018         148   \n",
       "\n",
       "   note_mean  note_std  \n",
       "0   2.384467  1.256869  \n",
       "1   2.986261  1.159985  \n",
       "2   2.788321  1.401541  \n",
       "3   3.688907  0.892136  \n",
       "4   2.957447  1.079520  \n",
       "5   3.758964  1.021516  \n",
       "6   2.568898  0.981461  \n",
       "7   2.673996  1.024244  \n",
       "8   3.349508  0.966672  \n",
       "9   3.377712  0.769126  "
      ]
     },
     "execution_count": 82,
     "metadata": {},
     "output_type": "execute_result"
    }
   ],
   "source": [
    "df_test_clean = df_test.drop(columns=['name', 'user_id', 'title'])\n",
    "df_test_clean.head(10)"
   ]
  },
  {
   "cell_type": "code",
   "execution_count": 88,
   "metadata": {},
   "outputs": [],
   "source": [
    "df_dev_clean.to_csv(root / 'data/csv/dev_std.csv', index=False)\n",
    "df_train_clean.to_csv(root / 'data/csv/train_std.csv', index=False)\n",
    "df_test_clean.to_csv(root / 'data/csv/test_std.csv', index=False)"
   ]
  },
  {
   "cell_type": "code",
   "execution_count": 38,
   "metadata": {},
   "outputs": [],
   "source": [
    "# keras dataset\n",
    "import tensorflow as tf\n",
    "from tensorflow.keras import layers\n",
    "from tensorflow.keras.layers.experimental import preprocessing\n",
    "from tensorflow.keras.layers.experimental.preprocessing import TextVectorization"
   ]
  },
  {
   "cell_type": "code",
   "execution_count": 5,
   "metadata": {},
   "outputs": [],
   "source": [
    "# raw_ds_eval = tf.keras.preprocessing.text_dataset_from_directory(\n",
    "#     eval,\n",
    "#     label_mode='categorical',\n",
    "#     batch_size=1\n",
    "# )"
   ]
  },
  {
   "cell_type": "code",
   "execution_count": 6,
   "metadata": {},
   "outputs": [],
   "source": [
    "df_dev = pd.read_csv(root / 'data/csv/dev_std.csv')"
   ]
  },
  {
   "cell_type": "code",
   "execution_count": 198,
   "metadata": {},
   "outputs": [
    {
     "data": {
      "text/html": [
       "<div>\n",
       "<style scoped>\n",
       "    .dataframe tbody tr th:only-of-type {\n",
       "        vertical-align: middle;\n",
       "    }\n",
       "\n",
       "    .dataframe tbody tr th {\n",
       "        vertical-align: top;\n",
       "    }\n",
       "\n",
       "    .dataframe thead th {\n",
       "        text-align: right;\n",
       "    }\n",
       "</style>\n",
       "<table border=\"1\" class=\"dataframe\">\n",
       "  <thead>\n",
       "    <tr style=\"text-align: right;\">\n",
       "      <th></th>\n",
       "      <th>review_id</th>\n",
       "      <th>commentaire</th>\n",
       "      <th>note</th>\n",
       "      <th>movie_id</th>\n",
       "      <th>directors</th>\n",
       "      <th>kinds</th>\n",
       "      <th>rating</th>\n",
       "      <th>review</th>\n",
       "      <th>subscriber</th>\n",
       "      <th>note_mean</th>\n",
       "      <th>note_std</th>\n",
       "    </tr>\n",
       "  </thead>\n",
       "  <tbody>\n",
       "    <tr>\n",
       "      <th>0</th>\n",
       "      <td>review_57113853</td>\n",
       "      <td>ce téléfilm est tout simplement bouleversant !...</td>\n",
       "      <td>5.0</td>\n",
       "      <td>244430</td>\n",
       "      <td>['Bourlem Guerdjou']</td>\n",
       "      <td>['Drame']</td>\n",
       "      <td>2081</td>\n",
       "      <td>1350</td>\n",
       "      <td>81</td>\n",
       "      <td>3.283040</td>\n",
       "      <td>1.454811</td>\n",
       "    </tr>\n",
       "    <tr>\n",
       "      <th>1</th>\n",
       "      <td>review_53044607</td>\n",
       "      <td>une fiction convaincainte qui a le mérite de m...</td>\n",
       "      <td>3.5</td>\n",
       "      <td>244430</td>\n",
       "      <td>['Bourlem Guerdjou']</td>\n",
       "      <td>['Drame']</td>\n",
       "      <td>1971</td>\n",
       "      <td>1482</td>\n",
       "      <td>56</td>\n",
       "      <td>3.063309</td>\n",
       "      <td>0.843267</td>\n",
       "    </tr>\n",
       "    <tr>\n",
       "      <th>2</th>\n",
       "      <td>review_60265420</td>\n",
       "      <td>énorme ce film parmi les meilleurs biopics doc...</td>\n",
       "      <td>4.0</td>\n",
       "      <td>244430</td>\n",
       "      <td>['Bourlem Guerdjou']</td>\n",
       "      <td>['Drame']</td>\n",
       "      <td>2784</td>\n",
       "      <td>1473</td>\n",
       "      <td>88</td>\n",
       "      <td>3.204444</td>\n",
       "      <td>0.855299</td>\n",
       "    </tr>\n",
       "    <tr>\n",
       "      <th>3</th>\n",
       "      <td>review_55880325</td>\n",
       "      <td>mario 13 ans pour toujours 2016 tv5 monde le 0...</td>\n",
       "      <td>2.0</td>\n",
       "      <td>244430</td>\n",
       "      <td>['Bourlem Guerdjou']</td>\n",
       "      <td>['Drame']</td>\n",
       "      <td>2070</td>\n",
       "      <td>938</td>\n",
       "      <td>66</td>\n",
       "      <td>2.385204</td>\n",
       "      <td>1.228212</td>\n",
       "    </tr>\n",
       "    <tr>\n",
       "      <th>4</th>\n",
       "      <td>review_53015074</td>\n",
       "      <td>un film choque coups de poing à la fois très r...</td>\n",
       "      <td>5.0</td>\n",
       "      <td>244430</td>\n",
       "      <td>['Bourlem Guerdjou']</td>\n",
       "      <td>['Drame']</td>\n",
       "      <td>1516</td>\n",
       "      <td>1098</td>\n",
       "      <td>30</td>\n",
       "      <td>2.834375</td>\n",
       "      <td>1.053598</td>\n",
       "    </tr>\n",
       "  </tbody>\n",
       "</table>\n",
       "</div>"
      ],
      "text/plain": [
       "         review_id                                        commentaire  note  \\\n",
       "0  review_57113853  ce téléfilm est tout simplement bouleversant !...   5.0   \n",
       "1  review_53044607  une fiction convaincainte qui a le mérite de m...   3.5   \n",
       "2  review_60265420  énorme ce film parmi les meilleurs biopics doc...   4.0   \n",
       "3  review_55880325  mario 13 ans pour toujours 2016 tv5 monde le 0...   2.0   \n",
       "4  review_53015074  un film choque coups de poing à la fois très r...   5.0   \n",
       "\n",
       "   movie_id             directors      kinds  rating  review  subscriber  \\\n",
       "0    244430  ['Bourlem Guerdjou']  ['Drame']    2081    1350          81   \n",
       "1    244430  ['Bourlem Guerdjou']  ['Drame']    1971    1482          56   \n",
       "2    244430  ['Bourlem Guerdjou']  ['Drame']    2784    1473          88   \n",
       "3    244430  ['Bourlem Guerdjou']  ['Drame']    2070     938          66   \n",
       "4    244430  ['Bourlem Guerdjou']  ['Drame']    1516    1098          30   \n",
       "\n",
       "   note_mean  note_std  \n",
       "0   3.283040  1.454811  \n",
       "1   3.063309  0.843267  \n",
       "2   3.204444  0.855299  \n",
       "3   2.385204  1.228212  \n",
       "4   2.834375  1.053598  "
      ]
     },
     "execution_count": 198,
     "metadata": {},
     "output_type": "execute_result"
    }
   ],
   "source": [
    "df_dev.head(5)"
   ]
  },
  {
   "cell_type": "code",
   "execution_count": 199,
   "metadata": {},
   "outputs": [],
   "source": [
    "dev_feats = df_dev.copy().drop(columns=['review_id'])\n",
    "dev_reviews = dev_feats.pop('commentaire')\n",
    "dev_labels = dev_feats.pop('note')"
   ]
  },
  {
   "cell_type": "code",
   "execution_count": 200,
   "metadata": {},
   "outputs": [],
   "source": [
    "dev_feats = dev_feats.astype({\"movie_id\": str, \"rating\": np.float32, \"review\": np.float32, \"subscriber\": np.float32})"
   ]
  },
  {
   "cell_type": "code",
   "execution_count": 201,
   "metadata": {},
   "outputs": [],
   "source": [
    "#dev_feats.head()"
   ]
  },
  {
   "cell_type": "code",
   "execution_count": 202,
   "metadata": {},
   "outputs": [
    {
     "data": {
      "text/plain": [
       "0    5.0\n",
       "1    3.5\n",
       "2    4.0\n",
       "3    2.0\n",
       "4    5.0\n",
       "Name: note, dtype: float64"
      ]
     },
     "execution_count": 202,
     "metadata": {},
     "output_type": "execute_result"
    }
   ],
   "source": [
    "dev_labels.head()"
   ]
  },
  {
   "cell_type": "code",
   "execution_count": 203,
   "metadata": {},
   "outputs": [
    {
     "data": {
      "text/plain": [
       "{'movie_id': <KerasTensor: shape=(None, 1) dtype=string (created by layer 'movie_id')>,\n",
       " 'directors': <KerasTensor: shape=(None, 1) dtype=string (created by layer 'directors')>,\n",
       " 'kinds': <KerasTensor: shape=(None, 1) dtype=string (created by layer 'kinds')>,\n",
       " 'rating': <KerasTensor: shape=(None, 1) dtype=float32 (created by layer 'rating')>,\n",
       " 'review': <KerasTensor: shape=(None, 1) dtype=float32 (created by layer 'review')>,\n",
       " 'subscriber': <KerasTensor: shape=(None, 1) dtype=float32 (created by layer 'subscriber')>,\n",
       " 'note_mean': <KerasTensor: shape=(None, 1) dtype=float32 (created by layer 'note_mean')>,\n",
       " 'note_std': <KerasTensor: shape=(None, 1) dtype=float32 (created by layer 'note_std')>}"
      ]
     },
     "execution_count": 203,
     "metadata": {},
     "output_type": "execute_result"
    }
   ],
   "source": [
    "inputs = {}\n",
    "\n",
    "for name, column in dev_feats.items():\n",
    "  dtype = column.dtype\n",
    "  if dtype == object:\n",
    "    dtype = tf.string\n",
    "  else:\n",
    "    dtype = tf.float32\n",
    "\n",
    "  inputs[name] = tf.keras.Input(shape=(1,), name=name, dtype=dtype)\n",
    "\n",
    "inputs"
   ]
  },
  {
   "cell_type": "code",
   "execution_count": 98,
   "metadata": {},
   "outputs": [],
   "source": [
    "# voir en bas\n",
    "max_features = 20000\n",
    "embedding_dim = 128\n",
    "sequence_length = 10000\n",
    "\n",
    "vectorize_layer = TextVectorization(\n",
    "    standardize=None,\n",
    "    max_tokens=max_features,\n",
    "    output_mode=\"int\",\n",
    "    output_sequence_length=sequence_length,\n",
    ")\n",
    "\n",
    "vectorize_layer.adapt(np.array(df_dev['commentaire']))\n",
    "\n",
    "# text_input = tf.keras.Input(shape=(1,), dtype=tf.string, name='text')\n",
    "# x = vectorize_layer(text_input)"
   ]
  },
  {
   "cell_type": "code",
   "execution_count": 204,
   "metadata": {},
   "outputs": [
    {
     "data": {
      "text/plain": [
       "<KerasTensor: shape=(None, 5) dtype=float32 (created by layer 'normalization_5')>"
      ]
     },
     "execution_count": 204,
     "metadata": {},
     "output_type": "execute_result"
    }
   ],
   "source": [
    "numeric_inputs = {name:input for name,input in inputs.items()\n",
    "                  if input.dtype==tf.float32}\n",
    "\n",
    "x = layers.Concatenate()(list(numeric_inputs.values()))\n",
    "norm = preprocessing.Normalization()\n",
    "norm.adapt(np.array(df_dev[numeric_inputs.keys()]))\n",
    "all_numeric_inputs = norm(x)\n",
    "\n",
    "all_numeric_inputs"
   ]
  },
  {
   "cell_type": "code",
   "execution_count": 205,
   "metadata": {},
   "outputs": [],
   "source": [
    "preprocessed_inputs = [all_numeric_inputs]"
   ]
  },
  {
   "cell_type": "code",
   "execution_count": 206,
   "metadata": {},
   "outputs": [],
   "source": [
    "for feature in ['movie_id', 'directors', 'kinds']:\n",
    "    lookup = preprocessing.StringLookup(vocabulary=np.unique(dev_feats[feature]))\n",
    "    one_hot = preprocessing.CategoryEncoding(max_tokens=lookup.vocab_size())\n",
    "\n",
    "    x = lookup(inputs[feature])\n",
    "    x = one_hot(x)\n",
    "    preprocessed_inputs.append(x)"
   ]
  },
  {
   "cell_type": "code",
   "execution_count": 207,
   "metadata": {},
   "outputs": [
    {
     "data": {
      "text/plain": [
       "[<KerasTensor: shape=(None, 5) dtype=float32 (created by layer 'normalization_5')>,\n",
       " <KerasTensor: shape=(None, 450) dtype=float32 (created by layer 'category_encoding_24')>,\n",
       " <KerasTensor: shape=(None, 421) dtype=float32 (created by layer 'category_encoding_25')>,\n",
       " <KerasTensor: shape=(None, 153) dtype=float32 (created by layer 'category_encoding_26')>]"
      ]
     },
     "execution_count": 207,
     "metadata": {},
     "output_type": "execute_result"
    }
   ],
   "source": [
    "preprocessed_inputs"
   ]
  },
  {
   "cell_type": "code",
   "execution_count": 208,
   "metadata": {},
   "outputs": [],
   "source": [
    "preprocessed_inputs_cat = layers.Concatenate()(preprocessed_inputs)\n",
    "input_preprocessing = tf.keras.Model(inputs, preprocessed_inputs_cat)\n",
    "#input_preprocessing = tf.keras.Model(inputs, preprocessed_inputs)"
   ]
  },
  {
   "cell_type": "code",
   "execution_count": 209,
   "metadata": {},
   "outputs": [],
   "source": [
    "dev_feats_dict = {name: np.array(value) \n",
    "                         for name, value in dev_feats.items()}"
   ]
  },
  {
   "cell_type": "code",
   "execution_count": 210,
   "metadata": {},
   "outputs": [
    {
     "data": {
      "text/plain": [
       "{'movie_id': array(['244430', '244430', '244430', ..., '221892', '221892', '221892'],\n",
       "       dtype=object),\n",
       " 'directors': array([\"['Bourlem Guerdjou']\", \"['Bourlem Guerdjou']\",\n",
       "        \"['Bourlem Guerdjou']\", ..., \"['Xavier Beauvois']\",\n",
       "        \"['Xavier Beauvois']\", \"['Xavier Beauvois']\"], dtype=object),\n",
       " 'kinds': array([\"['Drame']\", \"['Drame']\", \"['Drame']\", ...,\n",
       "        \"['Comédie dramatique']\", \"['Comédie dramatique']\",\n",
       "        \"['Comédie dramatique']\"], dtype=object),\n",
       " 'rating': array([2.081e+03, 1.971e+03, 2.784e+03, ..., 2.000e+00, 1.000e+01,\n",
       "        1.000e+00], dtype=float32),\n",
       " 'review': array([1.350e+03, 1.482e+03, 1.473e+03, ..., 2.000e+00, 2.000e+00,\n",
       "        1.000e+00], dtype=float32),\n",
       " 'subscriber': array([81., 56., 88., ...,  0.,  0.,  0.], dtype=float32),\n",
       " 'note_mean': array([3.28303965, 3.06330935, 3.20444444, ..., 4.25      , 0.5       ,\n",
       "        0.5       ]),\n",
       " 'note_std': array([1.4548108 , 0.84326736, 0.85529866, ..., 0.25      , 0.        ,\n",
       "        0.        ])}"
      ]
     },
     "execution_count": 210,
     "metadata": {},
     "output_type": "execute_result"
    }
   ],
   "source": [
    "dev_feats_dict"
   ]
  },
  {
   "cell_type": "code",
   "execution_count": 93,
   "metadata": {},
   "outputs": [
    {
     "data": {
      "text/plain": [
       "<tensorflow.python.keras.engine.functional.Functional at 0x7f0428856e80>"
      ]
     },
     "execution_count": 93,
     "metadata": {},
     "output_type": "execute_result"
    }
   ],
   "source": [
    "general_model(model1, inputs)"
   ]
  },
  {
   "cell_type": "code",
   "execution_count": 37,
   "metadata": {},
   "outputs": [
    {
     "data": {
      "text/plain": [
       "<tf.Tensor: shape=(1, 1029), dtype=float32, numpy=\n",
       "array([[1.02904   , 1.2081345 , 0.01518381, ..., 0.        , 0.        ,\n",
       "        0.        ]], dtype=float32)>"
      ]
     },
     "execution_count": 37,
     "metadata": {},
     "output_type": "execute_result"
    }
   ],
   "source": [
    "dev_feats_dict = {name:values[:1] for name, values in dev_feats_dict.items()}\n",
    "input_preprocessing(dev_feats_dict)"
   ]
  },
  {
   "cell_type": "code",
   "execution_count": 44,
   "metadata": {},
   "outputs": [],
   "source": [
    "max_features = 20000\n",
    "embedding_dim = 128\n",
    "sequence_length = 10000\n",
    "\n",
    "vectorize_layer = TextVectorization(\n",
    "    standardize=None,\n",
    "    max_tokens=max_features,\n",
    "    output_mode=\"int\",\n",
    "    output_sequence_length=sequence_length,\n",
    ")\n",
    "\n",
    "vectorize_layer.adapt(dev_reviews.tolist())\n"
   ]
  },
  {
   "cell_type": "code",
   "execution_count": 46,
   "metadata": {},
   "outputs": [
    {
     "data": {
      "text/plain": [
       "<tensorflow.python.keras.layers.preprocessing.text_vectorization.TextVectorization at 0x7f04243c5fa0>"
      ]
     },
     "execution_count": 46,
     "metadata": {},
     "output_type": "execute_result"
    }
   ],
   "source": [
    "vectorize_layer"
   ]
  },
  {
   "cell_type": "code",
   "execution_count": null,
   "metadata": {},
   "outputs": [],
   "source": [
    "nputs = keras.Input(shape=input_shape)\n",
    "x = preprocessing_layer(inputs)"
   ]
  },
  {
   "cell_type": "code",
   "execution_count": 94,
   "metadata": {},
   "outputs": [],
   "source": [
    "# Keras fresh start"
   ]
  },
  {
   "cell_type": "code",
   "execution_count": 236,
   "metadata": {},
   "outputs": [],
   "source": [
    "def create_mlp(preprocessing, inputs):\n",
    "\t# return our model\n",
    "    body = tf.keras.Sequential([\n",
    "        layers.Dense(256, activation=\"relu\"),\n",
    "        layers.Dense(128)\n",
    "    ])\n",
    "\n",
    "    preprocessed_inputs = preprocessing(inputs)\n",
    "    result = body(preprocessed_inputs)\n",
    "    \n",
    "    return tf.keras.Model(inputs, result)\n",
    "\n",
    "# def create_mlp(preprocessing, inputs):\n",
    "# \t# return our model\n",
    "# \treturn tf.keras.Sequential([\n",
    "#         layers.Dense(64, input_dim=dim, activation=\"relu\"),\n",
    "#         layers.Dense(32)\n",
    "#       ])"
   ]
  },
  {
   "cell_type": "code",
   "execution_count": 237,
   "metadata": {},
   "outputs": [],
   "source": [
    "def create_cnn(max_features, embedding_dim):\n",
    "    # A integer input for vocab indices.\n",
    "    inputs = tf.keras.Input(shape=(None,), dtype=\"int64\")\n",
    "    \n",
    "\n",
    "    # Next, we add a layer to map those vocab indices into a space of dimensionality\n",
    "    # 'embedding_dim'.\n",
    "    x = layers.Embedding(max_features, embedding_dim)(inputs)\n",
    "    x = layers.Dropout(0.5)(x)\n",
    "\n",
    "    # Conv1D + global max pooling\n",
    "    x = layers.Conv1D(64, 2, padding=\"valid\", activation=\"relu\", strides=1)(x)\n",
    "    x = layers.Conv1D(64, 4, padding=\"valid\", activation=\"relu\", strides=1)(x)\n",
    "    x = layers.GlobalMaxPooling1D()(x)\n",
    "\n",
    "    # We add a vanilla hidden layer:\n",
    "    x = layers.Dense(128, activation=\"relu\")(x)\n",
    "    x = layers.Dropout(0.5)(x)\n",
    "    \n",
    "    model = tf.keras.Model(inputs, x)\n",
    "    \n",
    "    \n",
    "    # A string input\n",
    "    inputs = tf.keras.Input(shape=(1,), dtype=\"string\")\n",
    "    # Turn strings into vocab indices\n",
    "    indices = vectorize_layer(inputs)\n",
    "    # Turn vocab indices into predictions\n",
    "    outputs = model(indices)\n",
    "    \n",
    "    return tf.keras.Model(inputs, outputs)"
   ]
  },
  {
   "cell_type": "code",
   "execution_count": 238,
   "metadata": {},
   "outputs": [],
   "source": [
    "# create the MLP and CNN models\n",
    "mlp = create_mlp(tf.keras.Model(inputs, preprocessed_inputs_cat), inputs)\n",
    "cnn = create_cnn(max_features, embedding_dim)\n",
    "\n",
    "# create the input to our final set of layers as the *output* of both\n",
    "# the MLP and CNN\n",
    "combinedInput = layers.concatenate([mlp.output, cnn.output])\n",
    "\n",
    "# our final FC layer head will have two dense layers, the final one\n",
    "# being our regression head\n",
    "x = layers.Dense(64, activation=\"relu\")(combinedInput)\n",
    "x = layers.Dense(10, activation=\"linear\")(x)\n",
    "# our final model will accept categorical/numerical data on the MLP\n",
    "# input and images on the CNN input, outputting a single value (the\n",
    "# predicted price of the house)\n",
    "model = tf.keras.Model(inputs=[mlp.input, cnn.input], outputs=x) #[mlp.input, cnn.input]"
   ]
  },
  {
   "cell_type": "code",
   "execution_count": 239,
   "metadata": {},
   "outputs": [
    {
     "data": {
      "image/png": "[encoded data removed]",
      "text/plain": [
       "<IPython.core.display.Image object>"
      ]
     },
     "execution_count": 239,
     "metadata": {},
     "output_type": "execute_result"
    }
   ],
   "source": [
    "tf.keras.utils.plot_model(model = model , rankdir=\"LR\", dpi=72, show_shapes=True)"
   ]
  },
  {
   "cell_type": "code",
   "execution_count": 213,
   "metadata": {},
   "outputs": [],
   "source": [
    "dev_labels = tf.keras.utils.to_categorical(dev_labels, 10)"
   ]
  },
  {
   "cell_type": "code",
   "execution_count": 240,
   "metadata": {},
   "outputs": [],
   "source": [
    "model.compile(loss=\"categorical_crossentropy\", optimizer=\"adam\", metrics=[\"accuracy\"])"
   ]
  },
  {
   "cell_type": "code",
   "execution_count": 196,
   "metadata": {},
   "outputs": [
    {
     "data": {
      "text/plain": [
       "array([['244430', \"['Bourlem Guerdjou']\", \"['Drame']\", ..., 81.0,\n",
       "        3.2830396475770924, 1.4548107990330343],\n",
       "       ['244430', \"['Bourlem Guerdjou']\", \"['Drame']\", ..., 56.0,\n",
       "        3.0633093525179858, 0.8432673594731496],\n",
       "       ['244430', \"['Bourlem Guerdjou']\", \"['Drame']\", ..., 88.0,\n",
       "        3.2044444444444444, 0.8552986627308241],\n",
       "       ...,\n",
       "       ['221892', \"['Xavier Beauvois']\", \"['Comédie dramatique']\", ...,\n",
       "        0.0, 4.25, 0.25],\n",
       "       ['221892', \"['Xavier Beauvois']\", \"['Comédie dramatique']\", ...,\n",
       "        0.0, 0.5, 0.0],\n",
       "       ['221892', \"['Xavier Beauvois']\", \"['Comédie dramatique']\", ...,\n",
       "        0.0, 0.5, 0.0]], dtype=object)"
      ]
     },
     "execution_count": 196,
     "metadata": {},
     "output_type": "execute_result"
    }
   ],
   "source": [
    "dev_feats.values"
   ]
  },
  {
   "cell_type": "code",
   "execution_count": 241,
   "metadata": {},
   "outputs": [],
   "source": [
    "# model.fit(\n",
    "# \tx=dev_reviews, y=dev_labels,\n",
    "# \t#validation_data=([testAttrX, testImagesX], testY),\n",
    "# \tepochs=2, batch_size=64)"
   ]
  },
  {
   "cell_type": "code",
   "execution_count": 171,
   "metadata": {},
   "outputs": [],
   "source": [
    "dev_feats_dict = {name:values for name, values in dev_feats_dict.items()}"
   ]
  },
  {
   "cell_type": "code",
   "execution_count": 242,
   "metadata": {},
   "outputs": [
    {
     "name": "stdout",
     "output_type": "stream",
     "text": [
      "Epoch 1/2\n",
      "  26/1569 [..............................] - ETA: 32:21 - loss: 9.5771 - accuracy: 0.0320"
     ]
    },
    {
     "ename": "KeyboardInterrupt",
     "evalue": "",
     "output_type": "error",
     "traceback": [
      "\u001b[0;31m---------------------------------------------------------------------------\u001b[0m",
      "\u001b[0;31mKeyboardInterrupt\u001b[0m                         Traceback (most recent call last)",
      "\u001b[0;32m<ipython-input-242-fef39730eaa1>\u001b[0m in \u001b[0;36m<module>\u001b[0;34m\u001b[0m\n\u001b[0;32m----> 1\u001b[0;31m model.fit(\n\u001b[0m\u001b[1;32m      2\u001b[0m         \u001b[0mx\u001b[0m\u001b[0;34m=\u001b[0m\u001b[0;34m[\u001b[0m\u001b[0mdev_feats_dict\u001b[0m\u001b[0;34m,\u001b[0m \u001b[0mdev_reviews\u001b[0m\u001b[0;34m]\u001b[0m\u001b[0;34m,\u001b[0m \u001b[0my\u001b[0m\u001b[0;34m=\u001b[0m\u001b[0mdev_labels\u001b[0m\u001b[0;34m,\u001b[0m\u001b[0;34m\u001b[0m\u001b[0;34m\u001b[0m\u001b[0m\n\u001b[1;32m      3\u001b[0m         \u001b[0;31m#validation_data=([testAttrX, testImagesX], testY),\u001b[0m\u001b[0;34m\u001b[0m\u001b[0;34m\u001b[0m\u001b[0;34m\u001b[0m\u001b[0m\n\u001b[1;32m      4\u001b[0m \tepochs=2, batch_size=64)\n",
      "\u001b[0;32m~/anaconda3/envs/innovation/lib/python3.8/site-packages/tensorflow/python/keras/engine/training.py\u001b[0m in \u001b[0;36mfit\u001b[0;34m(self, x, y, batch_size, epochs, verbose, callbacks, validation_split, validation_data, shuffle, class_weight, sample_weight, initial_epoch, steps_per_epoch, validation_steps, validation_batch_size, validation_freq, max_queue_size, workers, use_multiprocessing)\u001b[0m\n\u001b[1;32m   1098\u001b[0m                 _r=1):\n\u001b[1;32m   1099\u001b[0m               \u001b[0mcallbacks\u001b[0m\u001b[0;34m.\u001b[0m\u001b[0mon_train_batch_begin\u001b[0m\u001b[0;34m(\u001b[0m\u001b[0mstep\u001b[0m\u001b[0;34m)\u001b[0m\u001b[0;34m\u001b[0m\u001b[0;34m\u001b[0m\u001b[0m\n\u001b[0;32m-> 1100\u001b[0;31m               \u001b[0mtmp_logs\u001b[0m \u001b[0;34m=\u001b[0m \u001b[0mself\u001b[0m\u001b[0;34m.\u001b[0m\u001b[0mtrain_function\u001b[0m\u001b[0;34m(\u001b[0m\u001b[0miterator\u001b[0m\u001b[0;34m)\u001b[0m\u001b[0;34m\u001b[0m\u001b[0;34m\u001b[0m\u001b[0m\n\u001b[0m\u001b[1;32m   1101\u001b[0m               \u001b[0;32mif\u001b[0m \u001b[0mdata_handler\u001b[0m\u001b[0;34m.\u001b[0m\u001b[0mshould_sync\u001b[0m\u001b[0;34m:\u001b[0m\u001b[0;34m\u001b[0m\u001b[0;34m\u001b[0m\u001b[0m\n\u001b[1;32m   1102\u001b[0m                 \u001b[0mcontext\u001b[0m\u001b[0;34m.\u001b[0m\u001b[0masync_wait\u001b[0m\u001b[0;34m(\u001b[0m\u001b[0;34m)\u001b[0m\u001b[0;34m\u001b[0m\u001b[0;34m\u001b[0m\u001b[0m\n",
      "\u001b[0;32m~/anaconda3/envs/innovation/lib/python3.8/site-packages/tensorflow/python/eager/def_function.py\u001b[0m in \u001b[0;36m__call__\u001b[0;34m(self, *args, **kwds)\u001b[0m\n\u001b[1;32m    826\u001b[0m     \u001b[0mtracing_count\u001b[0m \u001b[0;34m=\u001b[0m \u001b[0mself\u001b[0m\u001b[0;34m.\u001b[0m\u001b[0mexperimental_get_tracing_count\u001b[0m\u001b[0;34m(\u001b[0m\u001b[0;34m)\u001b[0m\u001b[0;34m\u001b[0m\u001b[0;34m\u001b[0m\u001b[0m\n\u001b[1;32m    827\u001b[0m     \u001b[0;32mwith\u001b[0m \u001b[0mtrace\u001b[0m\u001b[0;34m.\u001b[0m\u001b[0mTrace\u001b[0m\u001b[0;34m(\u001b[0m\u001b[0mself\u001b[0m\u001b[0;34m.\u001b[0m\u001b[0m_name\u001b[0m\u001b[0;34m)\u001b[0m \u001b[0;32mas\u001b[0m \u001b[0mtm\u001b[0m\u001b[0;34m:\u001b[0m\u001b[0;34m\u001b[0m\u001b[0;34m\u001b[0m\u001b[0m\n\u001b[0;32m--> 828\u001b[0;31m       \u001b[0mresult\u001b[0m \u001b[0;34m=\u001b[0m \u001b[0mself\u001b[0m\u001b[0;34m.\u001b[0m\u001b[0m_call\u001b[0m\u001b[0;34m(\u001b[0m\u001b[0;34m*\u001b[0m\u001b[0margs\u001b[0m\u001b[0;34m,\u001b[0m \u001b[0;34m**\u001b[0m\u001b[0mkwds\u001b[0m\u001b[0;34m)\u001b[0m\u001b[0;34m\u001b[0m\u001b[0;34m\u001b[0m\u001b[0m\n\u001b[0m\u001b[1;32m    829\u001b[0m       \u001b[0mcompiler\u001b[0m \u001b[0;34m=\u001b[0m \u001b[0;34m\"xla\"\u001b[0m \u001b[0;32mif\u001b[0m \u001b[0mself\u001b[0m\u001b[0;34m.\u001b[0m\u001b[0m_experimental_compile\u001b[0m \u001b[0;32melse\u001b[0m \u001b[0;34m\"nonXla\"\u001b[0m\u001b[0;34m\u001b[0m\u001b[0;34m\u001b[0m\u001b[0m\n\u001b[1;32m    830\u001b[0m       \u001b[0mnew_tracing_count\u001b[0m \u001b[0;34m=\u001b[0m \u001b[0mself\u001b[0m\u001b[0;34m.\u001b[0m\u001b[0mexperimental_get_tracing_count\u001b[0m\u001b[0;34m(\u001b[0m\u001b[0;34m)\u001b[0m\u001b[0;34m\u001b[0m\u001b[0;34m\u001b[0m\u001b[0m\n",
      "\u001b[0;32m~/anaconda3/envs/innovation/lib/python3.8/site-packages/tensorflow/python/eager/def_function.py\u001b[0m in \u001b[0;36m_call\u001b[0;34m(self, *args, **kwds)\u001b[0m\n\u001b[1;32m    853\u001b[0m       \u001b[0;31m# In this case we have created variables on the first call, so we run the\u001b[0m\u001b[0;34m\u001b[0m\u001b[0;34m\u001b[0m\u001b[0;34m\u001b[0m\u001b[0m\n\u001b[1;32m    854\u001b[0m       \u001b[0;31m# defunned version which is guaranteed to never create variables.\u001b[0m\u001b[0;34m\u001b[0m\u001b[0;34m\u001b[0m\u001b[0;34m\u001b[0m\u001b[0m\n\u001b[0;32m--> 855\u001b[0;31m       \u001b[0;32mreturn\u001b[0m \u001b[0mself\u001b[0m\u001b[0;34m.\u001b[0m\u001b[0m_stateless_fn\u001b[0m\u001b[0;34m(\u001b[0m\u001b[0;34m*\u001b[0m\u001b[0margs\u001b[0m\u001b[0;34m,\u001b[0m \u001b[0;34m**\u001b[0m\u001b[0mkwds\u001b[0m\u001b[0;34m)\u001b[0m  \u001b[0;31m# pylint: disable=not-callable\u001b[0m\u001b[0;34m\u001b[0m\u001b[0;34m\u001b[0m\u001b[0m\n\u001b[0m\u001b[1;32m    856\u001b[0m     \u001b[0;32melif\u001b[0m \u001b[0mself\u001b[0m\u001b[0;34m.\u001b[0m\u001b[0m_stateful_fn\u001b[0m \u001b[0;32mis\u001b[0m \u001b[0;32mnot\u001b[0m \u001b[0;32mNone\u001b[0m\u001b[0;34m:\u001b[0m\u001b[0;34m\u001b[0m\u001b[0;34m\u001b[0m\u001b[0m\n\u001b[1;32m    857\u001b[0m       \u001b[0;31m# Release the lock early so that multiple threads can perform the call\u001b[0m\u001b[0;34m\u001b[0m\u001b[0;34m\u001b[0m\u001b[0;34m\u001b[0m\u001b[0m\n",
      "\u001b[0;32m~/anaconda3/envs/innovation/lib/python3.8/site-packages/tensorflow/python/eager/function.py\u001b[0m in \u001b[0;36m__call__\u001b[0;34m(self, *args, **kwargs)\u001b[0m\n\u001b[1;32m   2940\u001b[0m       (graph_function,\n\u001b[1;32m   2941\u001b[0m        filtered_flat_args) = self._maybe_define_function(args, kwargs)\n\u001b[0;32m-> 2942\u001b[0;31m     return graph_function._call_flat(\n\u001b[0m\u001b[1;32m   2943\u001b[0m         filtered_flat_args, captured_inputs=graph_function.captured_inputs)  # pylint: disable=protected-access\n\u001b[1;32m   2944\u001b[0m \u001b[0;34m\u001b[0m\u001b[0m\n",
      "\u001b[0;32m~/anaconda3/envs/innovation/lib/python3.8/site-packages/tensorflow/python/eager/function.py\u001b[0m in \u001b[0;36m_call_flat\u001b[0;34m(self, args, captured_inputs, cancellation_manager)\u001b[0m\n\u001b[1;32m   1916\u001b[0m         and executing_eagerly):\n\u001b[1;32m   1917\u001b[0m       \u001b[0;31m# No tape is watching; skip to running the function.\u001b[0m\u001b[0;34m\u001b[0m\u001b[0;34m\u001b[0m\u001b[0;34m\u001b[0m\u001b[0m\n\u001b[0;32m-> 1918\u001b[0;31m       return self._build_call_outputs(self._inference_function.call(\n\u001b[0m\u001b[1;32m   1919\u001b[0m           ctx, args, cancellation_manager=cancellation_manager))\n\u001b[1;32m   1920\u001b[0m     forward_backward = self._select_forward_and_backward_functions(\n",
      "\u001b[0;32m~/anaconda3/envs/innovation/lib/python3.8/site-packages/tensorflow/python/eager/function.py\u001b[0m in \u001b[0;36mcall\u001b[0;34m(self, ctx, args, cancellation_manager)\u001b[0m\n\u001b[1;32m    553\u001b[0m       \u001b[0;32mwith\u001b[0m \u001b[0m_InterpolateFunctionError\u001b[0m\u001b[0;34m(\u001b[0m\u001b[0mself\u001b[0m\u001b[0;34m)\u001b[0m\u001b[0;34m:\u001b[0m\u001b[0;34m\u001b[0m\u001b[0;34m\u001b[0m\u001b[0m\n\u001b[1;32m    554\u001b[0m         \u001b[0;32mif\u001b[0m \u001b[0mcancellation_manager\u001b[0m \u001b[0;32mis\u001b[0m \u001b[0;32mNone\u001b[0m\u001b[0;34m:\u001b[0m\u001b[0;34m\u001b[0m\u001b[0;34m\u001b[0m\u001b[0m\n\u001b[0;32m--> 555\u001b[0;31m           outputs = execute.execute(\n\u001b[0m\u001b[1;32m    556\u001b[0m               \u001b[0mstr\u001b[0m\u001b[0;34m(\u001b[0m\u001b[0mself\u001b[0m\u001b[0;34m.\u001b[0m\u001b[0msignature\u001b[0m\u001b[0;34m.\u001b[0m\u001b[0mname\u001b[0m\u001b[0;34m)\u001b[0m\u001b[0;34m,\u001b[0m\u001b[0;34m\u001b[0m\u001b[0;34m\u001b[0m\u001b[0m\n\u001b[1;32m    557\u001b[0m               \u001b[0mnum_outputs\u001b[0m\u001b[0;34m=\u001b[0m\u001b[0mself\u001b[0m\u001b[0;34m.\u001b[0m\u001b[0m_num_outputs\u001b[0m\u001b[0;34m,\u001b[0m\u001b[0;34m\u001b[0m\u001b[0;34m\u001b[0m\u001b[0m\n",
      "\u001b[0;32m~/anaconda3/envs/innovation/lib/python3.8/site-packages/tensorflow/python/eager/execute.py\u001b[0m in \u001b[0;36mquick_execute\u001b[0;34m(op_name, num_outputs, inputs, attrs, ctx, name)\u001b[0m\n\u001b[1;32m     57\u001b[0m   \u001b[0;32mtry\u001b[0m\u001b[0;34m:\u001b[0m\u001b[0;34m\u001b[0m\u001b[0;34m\u001b[0m\u001b[0m\n\u001b[1;32m     58\u001b[0m     \u001b[0mctx\u001b[0m\u001b[0;34m.\u001b[0m\u001b[0mensure_initialized\u001b[0m\u001b[0;34m(\u001b[0m\u001b[0;34m)\u001b[0m\u001b[0;34m\u001b[0m\u001b[0;34m\u001b[0m\u001b[0m\n\u001b[0;32m---> 59\u001b[0;31m     tensors = pywrap_tfe.TFE_Py_Execute(ctx._handle, device_name, op_name,\n\u001b[0m\u001b[1;32m     60\u001b[0m                                         inputs, attrs, num_outputs)\n\u001b[1;32m     61\u001b[0m   \u001b[0;32mexcept\u001b[0m \u001b[0mcore\u001b[0m\u001b[0;34m.\u001b[0m\u001b[0m_NotOkStatusException\u001b[0m \u001b[0;32mas\u001b[0m \u001b[0me\u001b[0m\u001b[0;34m:\u001b[0m\u001b[0;34m\u001b[0m\u001b[0;34m\u001b[0m\u001b[0m\n",
      "\u001b[0;31mKeyboardInterrupt\u001b[0m: "
     ]
    }
   ],
   "source": [
    "model.fit(\n",
    "\tx=[dev_feats_dict, dev_reviews], y=dev_labels,\n",
    "\t#validation_data=([testAttrX, testImagesX], testY),\n",
    "\tepochs=2, batch_size=64)"
   ]
  },
  {
   "cell_type": "code",
   "execution_count": null,
   "metadata": {},
   "outputs": [],
   "source": []
  }
 ],
 "metadata": {
  "kernelspec": {
   "display_name": "Python 3",
   "language": "python",
   "name": "python3"
  },
  "language_info": {
   "codemirror_mode": {
    "name": "ipython",
    "version": 3
   },
   "file_extension": ".py",
   "mimetype": "text/x-python",
   "name": "python",
   "nbconvert_exporter": "python",
   "pygments_lexer": "ipython3",
   "version": "3.8.5"
  }
 },
 "nbformat": 4,
 "nbformat_minor": 4
}
